# Este es un arhivo de Jupyter
## Haremos algunos cálculos
a = 72
b = 38
suma = a+b
print(suma)